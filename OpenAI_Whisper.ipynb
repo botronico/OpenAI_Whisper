{
  "nbformat": 4,
  "nbformat_minor": 0,
  "metadata": {
    "colab": {
      "provenance": [],
      "gpuType": "T4",
      "machine_shape": "hm",
      "mount_file_id": "11gvQWXcfH7-y_vMZhX4d23QabQu-nyn2",
      "authorship_tag": "ABX9TyMoEOmSq4NB5T7DuQLYzfqX",
      "include_colab_link": true
    },
    "kernelspec": {
      "name": "python3",
      "display_name": "Python 3"
    },
    "language_info": {
      "name": "python"
    },
    "accelerator": "GPU"
  },
  "cells": [
    {
      "cell_type": "markdown",
      "metadata": {
        "id": "view-in-github",
        "colab_type": "text"
      },
      "source": [
        "<a href=\"https://colab.research.google.com/github/botronico/OpenAI_Whisper/blob/main/OpenAI_Whisper.ipynb\" target=\"_parent\"><img src=\"https://colab.research.google.com/assets/colab-badge.svg\" alt=\"Open In Colab\"/></a>"
      ]
    },
    {
      "cell_type": "code",
      "execution_count": null,
      "metadata": {
        "id": "v3FyLajmi3hF"
      },
      "outputs": [],
      "source": [
        "!pip install git+https://github.com/openai/whisper.git\n",
        "!sudo apt update && sudo apt install ffmpeg"
      ]
    },
    {
      "cell_type": "code",
      "source": [
        "!whisper --help"
      ],
      "metadata": {
        "id": "ZVa3Nby66OXH"
      },
      "execution_count": null,
      "outputs": []
    },
    {
      "cell_type": "code",
      "source": [
        "!whisper \"audio1.mp3\" --model large"
      ],
      "metadata": {
        "id": "nWjtZ3FRjsii",
        "collapsed": true
      },
      "execution_count": null,
      "outputs": []
    }
  ]
}